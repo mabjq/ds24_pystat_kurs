{
 "cells": [
  {
   "cell_type": "markdown",
   "id": "dacf74e6",
   "metadata": {},
   "source": [
    "# NumPy"
   ]
  },
  {
   "cell_type": "markdown",
   "id": "01b2bf34",
   "metadata": {},
   "source": [
    "Read the links: https://numpy.org/doc/stable/user/quickstart.html  and https://numpy.org/doc/stable/user/basics.broadcasting.html  before solving the exercises. "
   ]
  },
  {
   "cell_type": "code",
   "execution_count": 125,
   "id": "1f79e4a6",
   "metadata": {},
   "outputs": [],
   "source": [
    "import numpy as np"
   ]
  },
  {
   "cell_type": "markdown",
   "id": "7dae6889",
   "metadata": {},
   "source": [
    "### Print out the dimension (number of axes), shape, size and the datatype of the matrix A."
   ]
  },
  {
   "cell_type": "code",
   "execution_count": 126,
   "id": "7b3678cd",
   "metadata": {},
   "outputs": [],
   "source": [
    "A = np.arange(1, 16).reshape(3,5)"
   ]
  },
  {
   "cell_type": "code",
   "execution_count": 127,
   "id": "31d39235",
   "metadata": {},
   "outputs": [
    {
     "name": "stdout",
     "output_type": "stream",
     "text": [
      "Number of axes för matrix A: 2\n",
      "The shape of matrix A: (3, 5)\n",
      "The size of matrix A: 15\n",
      "The datatype of matrix A: int64\n"
     ]
    }
   ],
   "source": [
    "print(f'Number of axes för matrix A: {A.ndim}')\n",
    "print(f'The shape of matrix A: {A.shape}')\n",
    "print(f'The size of matrix A: {A.size}')\n",
    "print(f'The datatype of matrix A: {A.dtype}')"
   ]
  },
  {
   "cell_type": "markdown",
   "id": "e56d2a96",
   "metadata": {},
   "source": [
    "### Do the following computations on the matrices B and C: \n",
    "* Elementwise subtraction. \n",
    "* Elementwise multiplication. \n",
    "* Matrix multiplication (by default you should use the @ operator)."
   ]
  },
  {
   "cell_type": "code",
   "execution_count": 128,
   "id": "a7053fbb",
   "metadata": {},
   "outputs": [
    {
     "name": "stdout",
     "output_type": "stream",
     "text": [
      "[[1 2 3]\n",
      " [4 5 6]\n",
      " [7 8 9]]\n",
      "\n",
      "[[2. 2. 2.]\n",
      " [2. 2. 2.]\n",
      " [2. 2. 2.]]\n"
     ]
    }
   ],
   "source": [
    "B = np.arange(1, 10).reshape(3, 3)\n",
    "C = np.ones((3, 3))*2\n",
    "\n",
    "print(B)\n",
    "print()\n",
    "print(C)"
   ]
  },
  {
   "cell_type": "code",
   "execution_count": 129,
   "id": "3cd794ae",
   "metadata": {},
   "outputs": [
    {
     "name": "stdout",
     "output_type": "stream",
     "text": [
      "[[-1.  0.  1.]\n",
      " [ 2.  3.  4.]\n",
      " [ 5.  6.  7.]]\n",
      "\n",
      "[[ 2.  4.  6.]\n",
      " [ 8. 10. 12.]\n",
      " [14. 16. 18.]]\n",
      "\n",
      "[[12. 12. 12.]\n",
      " [30. 30. 30.]\n",
      " [48. 48. 48.]]\n"
     ]
    }
   ],
   "source": [
    "# Elementwise subtraction.\n",
    "print(B - C)\n",
    "print()\n",
    "# Elementwise multiplication.\n",
    "print(B * C)\n",
    "print()\n",
    "# Matrix multiplication.\n",
    "print(B @ C)"
   ]
  },
  {
   "cell_type": "markdown",
   "id": "96030d53",
   "metadata": {},
   "source": [
    "### Do the following calculations on the matrix:\n",
    "* Exponentiate each number elementwise (use the np.exp function).\n",
    "\n",
    "* Calculate the minimum value in the whole matrix. \n",
    "* Calculcate the minimum value in each row. \n",
    "* Calculcate the minimum value in each column. \n",
    "\n",
    "\n",
    "* Find the index value for the minimum value in the whole matrix (hint: use np.argmin).\n",
    "* Find the index value for the minimum value in each row (hint: use np.argmin).\n",
    "\n",
    "\n",
    "* Calculate the sum for all elements.\n",
    "* Calculate the mean for each column. \n",
    "* Calculate the median for each column. "
   ]
  },
  {
   "cell_type": "code",
   "execution_count": 130,
   "id": "f8a9166b",
   "metadata": {},
   "outputs": [
    {
     "name": "stdout",
     "output_type": "stream",
     "text": [
      "[[1 2 3]\n",
      " [4 5 6]\n",
      " [7 8 9]]\n"
     ]
    }
   ],
   "source": [
    "B = np.arange(1, 10).reshape(3, 3)\n",
    "print(B)"
   ]
  },
  {
   "cell_type": "code",
   "execution_count": 131,
   "id": "f03f24f7",
   "metadata": {},
   "outputs": [
    {
     "name": "stdout",
     "output_type": "stream",
     "text": [
      "[[2.71828183e+00 7.38905610e+00 2.00855369e+01]\n",
      " [5.45981500e+01 1.48413159e+02 4.03428793e+02]\n",
      " [1.09663316e+03 2.98095799e+03 8.10308393e+03]]\n",
      "\n",
      "1\n",
      "\n",
      "[1 4 7]\n",
      "\n",
      "[1 2 3]\n",
      "\n",
      "0\n",
      "\n",
      "[0 0 0]\n",
      "\n",
      "45\n",
      "\n",
      "[4. 5. 6.]\n",
      "\n",
      "[4. 5. 6.]\n"
     ]
    }
   ],
   "source": [
    "# Exponentiate each number elementwise.\n",
    "result = np.exp(B)\n",
    "print(result)\n",
    "print()\n",
    "# Calculate the minimum value in the whole matrix.\n",
    "print(B.min())\n",
    "print()\n",
    "# Calculcate the minimum value in each row.\n",
    "print(B.min(axis=1))\n",
    "print()\n",
    "# Calculcate the minimum value in each column.\n",
    "print(B.min(axis=0))\n",
    "print()\n",
    "# Find the index value for the minimum value in the whole matrix.\n",
    "print(np.argmin(B))\n",
    "print()\n",
    "# Find the index value for the minimum value in each row.\n",
    "print(np.argmin(B, axis=1))\n",
    "print()\n",
    "# Calculate the sum for all elements.\n",
    "print(B.sum())\n",
    "print()\n",
    "# Calculate the mean for each column. \n",
    "print(B.mean(axis=0))\n",
    "print()\n",
    "# Calculate the median for each column. \n",
    "print(np.median(B, axis=0))"
   ]
  },
  {
   "cell_type": "markdown",
   "id": "541eb7ba",
   "metadata": {},
   "source": [
    "### What does it mean when you provide fewer indices than axes when slicing? See example below."
   ]
  },
  {
   "cell_type": "code",
   "execution_count": 132,
   "id": "9c8abf56",
   "metadata": {},
   "outputs": [
    {
     "name": "stdout",
     "output_type": "stream",
     "text": [
      "[[ 1  2  3  4  5]\n",
      " [ 6  7  8  9 10]\n",
      " [11 12 13 14 15]]\n"
     ]
    }
   ],
   "source": [
    "print(A)"
   ]
  },
  {
   "cell_type": "code",
   "execution_count": 133,
   "id": "69415f7b",
   "metadata": {},
   "outputs": [
    {
     "data": {
      "text/plain": [
       "array([ 6,  7,  8,  9, 10])"
      ]
     },
     "execution_count": 133,
     "metadata": {},
     "output_type": "execute_result"
    }
   ],
   "source": [
    "A[1]"
   ]
  },
  {
   "cell_type": "markdown",
   "id": "6c53541b",
   "metadata": {},
   "source": [
    "**Answer:**"
   ]
  },
  {
   "cell_type": "code",
   "execution_count": 134,
   "id": "de01e120",
   "metadata": {},
   "outputs": [],
   "source": [
    "# The missing indices are considered complete slices\n",
    "# A[1] => A[1, : ]\n",
    "# Every kolumn for second row (entire row)."
   ]
  },
  {
   "cell_type": "markdown",
   "id": "6652d0c9",
   "metadata": {},
   "source": [
    "### Iterating over multidimensional arrays is done with respect to the first axis, so in the example below we iterate trough the rows. If you would like to iterate through the array *elementwise*, how would you do that?"
   ]
  },
  {
   "cell_type": "code",
   "execution_count": 135,
   "id": "9459864f",
   "metadata": {},
   "outputs": [
    {
     "data": {
      "text/plain": [
       "array([[ 1,  2,  3,  4,  5],\n",
       "       [ 6,  7,  8,  9, 10],\n",
       "       [11, 12, 13, 14, 15]])"
      ]
     },
     "execution_count": 135,
     "metadata": {},
     "output_type": "execute_result"
    }
   ],
   "source": [
    "A"
   ]
  },
  {
   "cell_type": "code",
   "execution_count": 136,
   "id": "a671bb5a",
   "metadata": {},
   "outputs": [
    {
     "name": "stdout",
     "output_type": "stream",
     "text": [
      "[1 2 3 4 5]\n",
      "[ 6  7  8  9 10]\n",
      "[11 12 13 14 15]\n"
     ]
    }
   ],
   "source": [
    "for i in A:\n",
    "    print(i)"
   ]
  },
  {
   "cell_type": "code",
   "execution_count": 137,
   "id": "f4e443a0",
   "metadata": {},
   "outputs": [
    {
     "name": "stdout",
     "output_type": "stream",
     "text": [
      "1\n",
      "2\n",
      "3\n",
      "4\n",
      "5\n",
      "6\n",
      "7\n",
      "8\n",
      "9\n",
      "10\n",
      "11\n",
      "12\n",
      "13\n",
      "14\n",
      "15\n"
     ]
    }
   ],
   "source": [
    "# By using the flat attribute.\n",
    "for i in A.flat:\n",
    "    print(i)"
   ]
  },
  {
   "cell_type": "markdown",
   "id": "608a2583",
   "metadata": {},
   "source": [
    "### Explain what the code below does. More specifically, b has three axes - what does this mean? "
   ]
  },
  {
   "cell_type": "code",
   "execution_count": 138,
   "id": "f8f9b26f",
   "metadata": {},
   "outputs": [
    {
     "name": "stdout",
     "output_type": "stream",
     "text": [
      "[ 0  1  2  3  4  5  6  7  8  9 10 11 12 13 14 15 16 17 18 19 20 21 22 23\n",
      " 24 25 26 27 28 29]\n",
      "\n",
      "[[[ 0  1  2  3  4]\n",
      "  [ 5  6  7  8  9]\n",
      "  [10 11 12 13 14]]\n",
      "\n",
      " [[15 16 17 18 19]\n",
      "  [20 21 22 23 24]\n",
      "  [25 26 27 28 29]]]\n"
     ]
    }
   ],
   "source": [
    "a = np.arange(30)\n",
    "b = a.reshape((2, 3, -1))\n",
    "print(a)\n",
    "print()\n",
    "\n",
    "print(b)"
   ]
  },
  {
   "cell_type": "code",
   "execution_count": 139,
   "id": "863a45df",
   "metadata": {},
   "outputs": [],
   "source": [
    "# First an 1D array is created with 30 numbers (0-29) and is set to = a.\n",
    "# Then b is set, reshaped from a, with new dimensions for a 3-dimensional array with (2, 3, -1)\n",
    "# (2, 3, -1) meaning:\n",
    "# The outermost (1st) dimension will have 2 elements/arrays which each will contain 3 elements/arrays (2nd dimension). \n",
    "# -1 = Numpy will automatically set the size/columns of the 3rd dimension based on the the other dimensions and total number of elements. "
   ]
  },
  {
   "cell_type": "markdown",
   "id": "ab5933d5",
   "metadata": {},
   "source": [
    "### Broadcasting\n",
    "**Read the following link about broadcasting: https://numpy.org/doc/stable/user/basics.broadcasting.html#basics-broadcasting**"
   ]
  },
  {
   "cell_type": "markdown",
   "id": "039805ba",
   "metadata": {},
   "source": [
    "# Remark on Broadcasting when doing Linear Algebra calculations in Python. "
   ]
  },
  {
   "cell_type": "markdown",
   "id": "c4bcc147",
   "metadata": {},
   "source": [
    "### From the mathematical rules of matrix addition, the operation below (m1 + m2) does not make sense. The reason is that matrix addition requires two matrices of the same size. In Python however, it works due to broadcasting rules in NumPy. So you must be careful when doing Linear Algebra calculations in Python since they do not follow the \"mathematical rules\". This can however easily be handled by doing some simple programming, for example validating that two matrices have the same shape is easy if you for instance want to add two matrices. "
   ]
  },
  {
   "cell_type": "code",
   "execution_count": 140,
   "id": "1fd46778",
   "metadata": {},
   "outputs": [
    {
     "name": "stdout",
     "output_type": "stream",
     "text": [
      "[[2 3]\n",
      " [4 5]]\n"
     ]
    }
   ],
   "source": [
    "m1 = np.array([[1, 2], [3, 4]])\n",
    "m2 = np.array([1, 1])\n",
    "print(m1 + m2)"
   ]
  },
  {
   "cell_type": "markdown",
   "id": "047d6576",
   "metadata": {},
   "source": [
    "### The example below would also not be allowed if following the \"mathematical rules\" in Linear Algebra. But it works due to broadcasting in NumPy. "
   ]
  },
  {
   "cell_type": "code",
   "execution_count": 141,
   "id": "5e6ef2e4",
   "metadata": {},
   "outputs": [
    {
     "name": "stdout",
     "output_type": "stream",
     "text": [
      "[2 3 4]\n"
     ]
    }
   ],
   "source": [
    "v1 = np.array([1, 2, 3])\n",
    "print(v1 + 1)"
   ]
  },
  {
   "cell_type": "code",
   "execution_count": 142,
   "id": "e2cbae26",
   "metadata": {},
   "outputs": [
    {
     "name": "stdout",
     "output_type": "stream",
     "text": [
      "[[1 2]\n",
      " [3 4]]\n",
      "[2 2]\n"
     ]
    }
   ],
   "source": [
    "A = np.arange(1, 5).reshape(2,2)\n",
    "print(A)\n",
    "\n",
    "b = np.array([2, 2])\n",
    "print(b)"
   ]
  },
  {
   "cell_type": "markdown",
   "id": "722fd5cd",
   "metadata": {},
   "source": [
    "# Vector- and matrix algebra Exercises"
   ]
  },
  {
   "cell_type": "markdown",
   "id": "b63a3081-d976-4d9f-bfd0-a63917e79f7d",
   "metadata": {},
   "source": [
    "**Now you are going to create a function that can be reused every time you add or multiply matrices. The function is created so that we do the addition and multiplication according to the rules of vector- and matrix algebra.**\n",
    "\n",
    "**Create a function \"add_mult_matrices\" that takes two matrices as input arguments (validate that the input are of the type numpy.ndarray by using the isinstance function), a third argument that is either 'add' or 'multiply' that specifies if you want to add or multiply the matrices (validate that the third argument is either 'add' or 'multiply'). When doing matrix addition, validate that the matrices have the same size. When doing matrix multiplication, validate that the sizes conform (i.e. number of columns in the first matrix is equal to the number of rows in the second matrix).**"
   ]
  },
  {
   "cell_type": "code",
   "execution_count": 143,
   "id": "3506f977-ac0a-473f-85bc-eec9f35dc498",
   "metadata": {},
   "outputs": [
    {
     "name": "stdout",
     "output_type": "stream",
     "text": [
      "Operation must be \"add\" or \"multiply\".\n",
      "The arrays must have the same sizes for addition.\n",
      "[[ 22  28]\n",
      " [ 49  64]\n",
      " [ 76 100]]\n"
     ]
    }
   ],
   "source": [
    "def add_mult_matrices(arg1, arg2, operation):\n",
    "\n",
    "    # Validate that the input are of the type numpy.ndarray\n",
    "    if not isinstance(arg1, np.ndarray) or not isinstance(arg2, np.ndarray):\n",
    "        return 'Both matrices must be arrays.'\n",
    "        \n",
    "    # Validate operation\n",
    "    if operation != 'add' and operation != 'multiply':\n",
    "        return 'Operation must be \"add\" or \"multiply\".'\n",
    "        \n",
    "    # Validate same sizes for addition\n",
    "    if operation == 'add' and arg1.shape != arg2.shape:\n",
    "        return 'The arrays must have the same sizes for addition.'\n",
    "           \n",
    "    # Validate that sizes conform when multiplication\n",
    "    if operation == 'multiply' and arg1.shape[1] != arg2.shape[0]:\n",
    "        return 'Number of columns in the first matrix must be equal to the number of rows in the second matrix.'\n",
    "\n",
    "    if operation == 'add':\n",
    "        result = arg1 + arg2\n",
    "    else:\n",
    "        result = arg1 @ arg2\n",
    "        \n",
    "    return result\n",
    "\n",
    "# Verifying\n",
    "arg1 = np.array([[1, 2, 3],[4, 5, 6],[7, 8, 9]])\n",
    "arg2 = np.array([[1, 2],[3, 4],[5, 6]])\n",
    "verify = add_mult_matrices(arg1, arg2, 'nisse')\n",
    "verify2 = add_mult_matrices(arg1, arg2, 'add')\n",
    "verify3 = add_mult_matrices(arg1, arg2, 'multiply')\n",
    "print(verify)\n",
    "print(verify2)\n",
    "print(verify3)\n"
   ]
  },
  {
   "cell_type": "markdown",
   "id": "8dad82d0-2359-4dff-8f5b-a57d3e34103c",
   "metadata": {},
   "source": [
    "### Solve all the exercises in chapter 10.1 in the book \"Matematik för yrkeshögskolan\". "
   ]
  },
  {
   "cell_type": "code",
   "execution_count": 144,
   "id": "89df88af-3668-4d98-a0a4-e6d92eea0f89",
   "metadata": {},
   "outputs": [
    {
     "name": "stdout",
     "output_type": "stream",
     "text": [
      "a)    Shape:(1, 2)  => dimension 1 x 2 (a row vector with 2 elements)\n",
      "b)    [[20 15]]\n",
      "c)    [[12  9]]\n",
      "d)    [[32 24]]\n",
      "e)    [[32 24]]\n",
      "f)    [[12  9]]\n",
      "g)    Since transposing a 1D row vector doesn't make any differense in Numpy I've chosen to write the array as an 2D array\n",
      "      in the first place knowing we would use transposing and calculations. Result of x.T =>\n",
      "[[4]\n",
      " [3]]\n",
      "      and the dimensions are (2 x 1), shape: (2, 1).\n",
      "h)    No, mathematically the two dimensions do not match but in Numpy they can with help of broadcasting both to dim (2, 2)->\n",
      "[[8 7]\n",
      " [7 6]]\n",
      "i)    5.0\n"
     ]
    }
   ],
   "source": [
    "# 10.1.1    x = (4, 3)\n",
    "x = np.array([[4, 3]])\n",
    "print(f'a)    Shape:{x.shape}  => dimension 1 x 2 (a row vector with 2 elements)')\n",
    "print(f'b)    {5*x}')\n",
    "print(f'c)    {3*x}')\n",
    "print(f'd)    {5*x +3*x}')\n",
    "print(f'e)    {8*x}')\n",
    "print(f'f)    {4*x - x}')\n",
    "print(f\"g)    Since transposing a 1D row vector doesn't make any differense in Numpy I've chosen to write the array as an 2D array\") \n",
    "print(f'      in the first place knowing we would use transposing and calculations. Result of x.T =>') \n",
    "print(x.T)\n",
    "print(f'      and the dimensions are (2 x 1), shape: {x.T.shape}.')   \n",
    "print(\"h)    No, mathematically the two dimensions do not match but in Numpy they can with help of broadcasting both to dim (2, 2)->\")\n",
    "print(x+x.T)\n",
    "print(f'i)    {np.linalg.norm(x)}')"
   ]
  },
  {
   "cell_type": "code",
   "execution_count": 145,
   "id": "5983cffe",
   "metadata": {},
   "outputs": [
    {
     "name": "stdout",
     "output_type": "stream",
     "text": [
      "a)\n",
      "(4, 1) => dimension 4 x 1 (vector with 4 rows with 1 column)\n",
      "\n",
      "b)\n",
      "[[ 6]\n",
      " [14]\n",
      " [ 0]\n",
      " [22]]\n",
      "\n",
      "c)\n",
      "[[21]\n",
      " [49]\n",
      " [ 0]\n",
      " [77]]\n",
      "\n",
      "d)\n",
      "[[ 6]\n",
      " [14]\n",
      " [ 0]\n",
      " [22]]\n",
      "\n",
      "e)\n",
      "[[ 3  7  0 11]] => dimension 1 x 4 (1 row with 4 columns)\n",
      "\n",
      "f)\n",
      "13.379088160259652\n"
     ]
    }
   ],
   "source": [
    "# 10.1.2   \n",
    "v = np.array([[3],\n",
    "              [7],\n",
    "              [0],\n",
    "              [11]])    #column vector\n",
    "print('a)')\n",
    "print(f'{v.shape} => dimension 4 x 1 (vector with 4 rows with 1 column)')\n",
    "print()\n",
    "print('b)')\n",
    "print(2*v)\n",
    "print()  \n",
    "print('c)')\n",
    "print(5*v+2*v)\n",
    "print()\n",
    "print('d)')\n",
    "print(4*v-2*v)\n",
    "print()\n",
    "print('e)')\n",
    "print(f'{v.T} => dimension 1 x 4 (1 row with 4 columns)')\n",
    "print()\n",
    "print('f)')\n",
    "print(np.linalg.norm(v))"
   ]
  },
  {
   "cell_type": "code",
   "execution_count": 146,
   "id": "52ee7689",
   "metadata": {},
   "outputs": [
    {
     "name": "stdout",
     "output_type": "stream",
     "text": [
      "a)\n",
      "7.14142842854285\n",
      "\n",
      "b)\n",
      "4.47213595499958\n"
     ]
    }
   ],
   "source": [
    "# 10.1.3\n",
    "v1 = np.array([4, 3, 1, 5])\n",
    "v2 = np.array([2, 3, 1, 1])\n",
    "print('a)')\n",
    "print(np.linalg.norm(v1))\n",
    "print()\n",
    "print('b)')\n",
    "print(np.linalg.norm(v1-v2))"
   ]
  },
  {
   "cell_type": "markdown",
   "id": "75c98984-1f88-4df1-b850-d2466de444a5",
   "metadata": {},
   "source": [
    "### Solve all the exercises, except 10.2.4, in chapter 10.2 in the book \"Matematik för yrkeshögskolan\". "
   ]
  },
  {
   "cell_type": "code",
   "execution_count": 147,
   "id": "65371610-16e1-48b2-b7fb-65e49002608a",
   "metadata": {},
   "outputs": [
    {
     "name": "stdout",
     "output_type": "stream",
     "text": [
      "a)\n",
      "[[ 4  2 -2]\n",
      " [ 2 -2  2]]\n",
      "b)\n",
      "[[ 0 -4  3]\n",
      " [ 0 -2 -4]]\n",
      "c)\n",
      "[[ 1  4]\n",
      " [ 2 -1]]\n",
      "d)\n",
      "[[3 2]\n",
      " [2 3]]\n",
      "e)\n",
      "[[ 9 12]\n",
      " [12  9]]\n",
      "f)\n",
      "[[-4 -4]\n",
      " [-4 -4]]\n",
      "g)\n",
      "Undefined. Broadcast won't work since both dimensions are incompatible shapes.\n",
      "h)\n",
      "Undefined. Broadcast won't work since both dimensions are incompatible shapes.\n",
      "i)\n",
      "[[11 10]\n",
      " [10 11]]\n",
      "j)\n",
      "[[  8 -10  -3]\n",
      " [ 10  -8   0]]\n",
      "k)\n",
      "[[1 2]\n",
      " [2 1]]\n",
      "l)\n",
      "[[5 2]\n",
      " [7 4]]\n"
     ]
    }
   ],
   "source": [
    "# 10.2.1\n",
    "A = np.array([[2, 1, -1], [1, -1, 1]])\n",
    "B = np.array([[4, -2, 1], [2, -4, -2]])\n",
    "C = np.array([[1, 2], [2, 1]])\n",
    "D = np.array([[3, 4], [4, 3]])\n",
    "E = np.array([[1], [2]])\n",
    "I = np.array([[1, 0], [0, 1]])\n",
    "\n",
    "print('a)')\n",
    "print(2 * A)\n",
    "print('b)')\n",
    "print(B - 2*A)\n",
    "print('c)')\n",
    "print(3*C - 2*E) # undefined, Numpy broadcast to get the output\n",
    "print('d)')\n",
    "print(2*D - 3*C)\n",
    "print('e)')\n",
    "print(D.T + 2*D)\n",
    "print('f)')\n",
    "print(2*C.T - 2*D.T)\n",
    "print('g)')\n",
    "print(\"Undefined. Broadcast won't work since both dimensions are incompatible shapes.\")\n",
    "print('h)')\n",
    "print(\"Undefined. Broadcast won't work since both dimensions are incompatible shapes.\")\n",
    "print('i)')\n",
    "print(C @ D)\n",
    "print('j)')\n",
    "print(C @ B)\n",
    "print('k)')\n",
    "print(C @ I)\n",
    "print('l)')\n",
    "print(A @ B.T)\n"
   ]
  },
  {
   "cell_type": "code",
   "execution_count": 148,
   "id": "aa6ff4f1",
   "metadata": {},
   "outputs": [
    {
     "name": "stdout",
     "output_type": "stream",
     "text": [
      "[[29 26]\n",
      " [26 42]]\n"
     ]
    }
   ],
   "source": [
    "# 10.2.2\n",
    "A = np.array([[2, 3, 4], [5, 4, 1]])\n",
    "print(A @ A.T)"
   ]
  },
  {
   "cell_type": "code",
   "execution_count": 149,
   "id": "801b8990",
   "metadata": {},
   "outputs": [
    {
     "name": "stdout",
     "output_type": "stream",
     "text": [
      "[[ True  True]\n",
      " [ True  True]]\n",
      "[[ True  True]\n",
      " [ True  True]]\n"
     ]
    }
   ],
   "source": [
    "# 10.2.3\n",
    "A = np.array([[1, 2], [2, 4]])\n",
    "B = np.array([[2, 1], [1, 3]])\n",
    "C = np.array([[4, 3], [0, 2]])\n",
    "\n",
    "print(A @ B == A @ C)\n",
    "print(B != C)    # If true B is not equal to C"
   ]
  },
  {
   "cell_type": "markdown",
   "id": "6a4a524f",
   "metadata": {},
   "source": [
    "### Copies and Views\n",
    "Read the following link: https://numpy.org/doc/stable/user/basics.copies.html"
   ]
  },
  {
   "cell_type": "markdown",
   "id": "6cbbeaf7",
   "metadata": {},
   "source": [
    "**Basic indexing creates a view, How can you check if v1 and v2 is a view or copy? If you change the last element in v2 to 123, will the last element in v1 be changed? Why?**"
   ]
  },
  {
   "cell_type": "code",
   "execution_count": 150,
   "id": "5b9ef4df",
   "metadata": {},
   "outputs": [
    {
     "name": "stdout",
     "output_type": "stream",
     "text": [
      "[0 1 2 3]\n",
      "[2 3]\n"
     ]
    }
   ],
   "source": [
    "v1 = np.arange(4)\n",
    "v2 = v1[-2:]\n",
    "print(v1)\n",
    "print(v2)"
   ]
  },
  {
   "cell_type": "code",
   "execution_count": 151,
   "id": "d2440489",
   "metadata": {},
   "outputs": [
    {
     "name": "stdout",
     "output_type": "stream",
     "text": [
      "None\n",
      "[0 1 2 3]\n"
     ]
    }
   ],
   "source": [
    "# The base attribute of a view returns the original array while it returns None for a copy.\n",
    "print(v1.base)\n",
    "print(v2.base)"
   ]
  },
  {
   "cell_type": "code",
   "execution_count": 152,
   "id": "c8752807",
   "metadata": {},
   "outputs": [
    {
     "name": "stdout",
     "output_type": "stream",
     "text": [
      "[  0   1   2 123]\n",
      "[  2 123]\n"
     ]
    }
   ],
   "source": [
    "# The last element in v1 will be changed aswell since v2 is a view, meaning they share the same data buffer.\n",
    "v2[-1] = 123\n",
    "print(v1)\n",
    "print(v2)"
   ]
  },
  {
   "cell_type": "code",
   "execution_count": 153,
   "id": "3dd68221",
   "metadata": {},
   "outputs": [],
   "source": [
    "# As described in comments above: v1 is a copy since there is no original array linked (None) as shown with v1.base\n",
    "# v2 on the other hand is a view since v2.base show the original array\n",
    "# If changes are made on v2 it will also affect v1 on the corresponding elements."
   ]
  }
 ],
 "metadata": {
  "kernelspec": {
   "display_name": "Python 3",
   "language": "python",
   "name": "python3"
  },
  "language_info": {
   "codemirror_mode": {
    "name": "ipython",
    "version": 3
   },
   "file_extension": ".py",
   "mimetype": "text/x-python",
   "name": "python",
   "nbconvert_exporter": "python",
   "pygments_lexer": "ipython3",
   "version": "3.13.0"
  }
 },
 "nbformat": 4,
 "nbformat_minor": 5
}
